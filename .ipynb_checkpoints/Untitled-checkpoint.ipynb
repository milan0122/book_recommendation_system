{
 "cells": [
  {
   "cell_type": "code",
   "execution_count": 1,
   "id": "a1313b32",
   "metadata": {},
   "outputs": [
    {
     "data": {
      "text/plain": [
       "['a', 'b', 'A', 'B', 'C', 'f', 'g', 'h']"
      ]
     },
     "execution_count": 1,
     "metadata": {},
     "output_type": "execute_result"
    }
   ],
   "source": [
    "letters = ['a','b','c','d','e','f','g','h']\n",
    "#replacing letters\n",
    "letters[2:5]=['A','B','C']\n",
    "letters"
   ]
  },
  {
   "cell_type": "code",
   "execution_count": 2,
   "id": "db2d34a4",
   "metadata": {},
   "outputs": [
    {
     "data": {
      "text/plain": [
       "['a', 'b', 'C', 'f', 'g', 'h']"
      ]
     },
     "execution_count": 2,
     "metadata": {},
     "output_type": "execute_result"
    }
   ],
   "source": [
    "#removing the list\n",
    "letters[2:4]=[]\n",
    "letters"
   ]
  },
  {
   "cell_type": "code",
   "execution_count": 10,
   "id": "f6ae029d",
   "metadata": {},
   "outputs": [],
   "source": [
    "#create a simple collection\n",
    "users = {'Milan':'active','Prasson':'active','sangam':'inactive'}\n",
    "for user,status in users.copy().items():\n",
    "    if status == 'inactive':\n",
    "        del users[user]\n"
   ]
  },
  {
   "cell_type": "code",
   "execution_count": 11,
   "id": "02890e93",
   "metadata": {},
   "outputs": [
    {
     "data": {
      "text/plain": [
       "{'Milan': 'active', 'Prasson': 'active'}"
      ]
     },
     "execution_count": 11,
     "metadata": {},
     "output_type": "execute_result"
    }
   ],
   "source": [
    "users"
   ]
  },
  {
   "cell_type": "code",
   "execution_count": 12,
   "id": "4d50e0a5",
   "metadata": {},
   "outputs": [],
   "source": [
    "active_users={}\n",
    "for user,status in users.items():\n",
    "    if status == 'active':\n",
    "        active_users[user]="
   ]
  },
  {
   "cell_type": "code",
   "execution_count": 13,
   "id": "7a45281c",
   "metadata": {},
   "outputs": [
    {
     "data": {
      "text/plain": [
       "{'Milan': 'active', 'Prasson': 'active'}"
      ]
     },
     "execution_count": 13,
     "metadata": {},
     "output_type": "execute_result"
    }
   ],
   "source": [
    "active_users"
   ]
  },
  {
   "cell_type": "code",
   "execution_count": 15,
   "id": "b2a44718",
   "metadata": {},
   "outputs": [
    {
     "name": "stdout",
     "output_type": "stream",
     "text": [
      "3\n",
      "5\n",
      "7\n",
      "9\n"
     ]
    }
   ],
   "source": [
    "for num in range(2,10):\n",
    "    if num %2 == 0:\n",
    "        continue\n",
    "    print(num)\n",
    "        \n"
   ]
  },
  {
   "cell_type": "code",
   "execution_count": 16,
   "id": "ecc2b28a",
   "metadata": {},
   "outputs": [
    {
     "ename": "SyntaxError",
     "evalue": "invalid syntax (2737089664.py, line 7)",
     "output_type": "error",
     "traceback": [
      "\u001b[0;36m  File \u001b[0;32m\"/var/folders/dn/6rswl2cs6j3cg53031stv1m80000gn/T/ipykernel_8820/2737089664.py\"\u001b[0;36m, line \u001b[0;32m7\u001b[0m\n\u001b[0;31m    match points:\u001b[0m\n\u001b[0m          ^\u001b[0m\n\u001b[0;31mSyntaxError\u001b[0m\u001b[0;31m:\u001b[0m invalid syntax\n"
     ]
    }
   ],
   "source": []
  },
  {
   "cell_type": "code",
   "execution_count": null,
   "id": "f23a4a08",
   "metadata": {},
   "outputs": [],
   "source": []
  }
 ],
 "metadata": {
  "kernelspec": {
   "display_name": "Python 3 (ipykernel)",
   "language": "python",
   "name": "python3"
  },
  "language_info": {
   "codemirror_mode": {
    "name": "ipython",
    "version": 3
   },
   "file_extension": ".py",
   "mimetype": "text/x-python",
   "name": "python",
   "nbconvert_exporter": "python",
   "pygments_lexer": "ipython3",
   "version": "3.9.13"
  }
 },
 "nbformat": 4,
 "nbformat_minor": 5
}
